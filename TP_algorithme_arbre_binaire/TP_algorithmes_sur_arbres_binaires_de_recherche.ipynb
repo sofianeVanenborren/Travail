{
 "cells": [
  {
   "cell_type": "markdown",
   "metadata": {},
   "source": [
    "# TP algorithmes sur les arbres binaires de recherche\n",
    "\n",
    "## Travail préparatoire\n",
    "\n",
    "1. Télécharger depuis github dans votre dossier personnel les fichiers `TP_algorithme_sur_arbres_binaires_de_recherche.ipynb` et `visualisation_arbre.py` (module nécessaire pour le TP)\n",
    "\n",
    "* Toutes les réponses à apporter au TP devront être faites dans le fichier `TP_algorithme_sur_arbres_binaires_de_recherche.ipynb` et il devra être redéposé dans votre github.\n",
    "\n",
    "* Dans ce TP :\n",
    "    * On utilisera la classe `ABR` ci-dessous munies de cinq **méthodes** (plus la **méthode spéciale** `__repr__`, servant uniquement en cas de debugage)\n",
    "    * On choisit de représenter un arbre vide par `None`\n",
    "    * On a aussi deux **fonctions** `parcours_infixe` et `est_vide` qui portent bien leur nom...\n",
    "\n",
    "\n",
    "* **Aucune modification n'est demandée sur toutes ces méthodes et fonctions !!**\n",
    "\n",
    "* **Compléter ce notebook et, pour le rendre, sauvegarder-le dans votre github**"
   ]
  },
  {
   "cell_type": "code",
   "execution_count": 1,
   "metadata": {},
   "outputs": [],
   "source": [
    "from visualisation_arbre import *\n",
    "\n",
    "class ABR:\n",
    "    def __init__(self, valeur, gauche, droit):\n",
    "        self.valeur = valeur\n",
    "        self.gauche = gauche\n",
    "        self.droit = droit\n",
    "    \n",
    "    def get_data(self):\n",
    "        return self.valeur\n",
    "    \n",
    "    def get_SAG(self):\n",
    "        return self.gauche\n",
    "    \n",
    "    def get_SAD(self):\n",
    "        return self.droit\n",
    "    \n",
    "    def set_SAG(self, arbre):\n",
    "        self.gauche = arbre\n",
    "    \n",
    "    def set_SAD(self, arbre):\n",
    "        self.droit = arbre\n",
    "        \n",
    "    def __repr__(self):\n",
    "        chaine = ''\n",
    "        for val in parcours_infixe(self):\n",
    "            chaine += str(val) + ' ' \n",
    "        return chaine\n",
    "\n",
    "def est_vide(abr):\n",
    "    return abr is None      \n",
    "    \n",
    "def parcours_infixe(arbre):\n",
    "    def parcours_infixe2(arbre, liste):\n",
    "        if est_vide(arbre):\n",
    "            liste = []\n",
    "            return\n",
    "\n",
    "        gauche = arbre.get_SAG()\n",
    "        if not(est_vide(gauche)):\n",
    "            parcours_infixe2(gauche, liste)\n",
    "\n",
    "        liste.append(arbre.get_data())\n",
    "\n",
    "        droit = arbre.get_SAD()    \n",
    "        if not(est_vide(droit)):\n",
    "            parcours_infixe2(droit, liste)\n",
    "    \n",
    "    l = []\n",
    "    parcours_infixe2(arbre, l)\n",
    "    return l"
   ]
  },
  {
   "cell_type": "markdown",
   "metadata": {},
   "source": [
    "2. Donner succintement le rôle des méthodes `get_data`, `get_SAG`, `get_SAD`, `set_SAG` et `set_SAD`. Pour chacune d'elle, préciser si elle renvoie un résultat (et son type) et/ou si elle modifie l'arbre."
   ]
  },
  {
   "cell_type": "markdown",
   "metadata": {},
   "source": [
    "* `get_data` : Cela renvoie la valeur de la racine. Type = int \n",
    "* `get_SAG` : Cela renvoie le sous-arbre gauche. Type = objet de classe ABR \n",
    "* `get_SAD` : Cela renvoie le sous-arbre droit. Type = objet de classe ABR\n",
    "* `set_SAG`: \n",
    "* `set_SAD`: "
   ]
  },
  {
   "cell_type": "markdown",
   "metadata": {},
   "source": [
    "> **Attention pour toute la suite du TP :** Ces cinq méthodes constituent l'**interface** par lequel on manipule l'arbre. Dans toutes les fonctions que vous devrez écrire dans ce TP, il faudra se servir de cette interface ainsi que des deux fonctions `parcours_infixe` et `est_vide`. **IL EST DONC INTERDIT DE MANIPULER DIRECTEMENT LES ATTRIBUTS DE L'ARBRE**\n",
    "\n",
    "3. Construire l'ABR appelé $A$ ci-dessous :\n",
    "\n",
    "![click droit pour afficher l'image](img/Exemple_arbre_binaire_de_recherche.png)"
   ]
  },
  {
   "cell_type": "code",
   "execution_count": 35,
   "metadata": {},
   "outputs": [],
   "source": [
    "a13 = ABR(13,None,None)\n",
    "a14 = ABR(14,a13,None)\n",
    "a10 = ABR(10,None,a14)\n",
    "a7 = ABR(7,None,None)\n",
    "a4 = ABR(4,None,None)\n",
    "a6 = ABR(6,a4,a7)\n",
    "a1 = ABR(1,None,None)\n",
    "a3 = ABR(3,a1,a6)\n",
    "A = ABR(8,a3,a10)\n",
    "\n"
   ]
  },
  {
   "cell_type": "markdown",
   "metadata": {},
   "source": [
    "5. Afficher cet arbre pour vérifier votre code en exécutant la cellule ci-dessous"
   ]
  },
  {
   "cell_type": "code",
   "execution_count": 36,
   "metadata": {},
   "outputs": [
    {
     "data": {
      "image/svg+xml": [
       "<?xml version=\"1.0\" encoding=\"UTF-8\" standalone=\"no\"?>\n",
       "<!DOCTYPE svg PUBLIC \"-//W3C//DTD SVG 1.1//EN\"\n",
       " \"http://www.w3.org/Graphics/SVG/1.1/DTD/svg11.dtd\">\n",
       "<!-- Generated by graphviz version 2.40.1 (20161225.0304)\n",
       " -->\n",
       "<!-- Title: G Pages: 1 -->\n",
       "<svg width=\"494pt\" height=\"332pt\"\n",
       " viewBox=\"0.00 0.00 494.00 332.00\" xmlns=\"http://www.w3.org/2000/svg\" xmlns:xlink=\"http://www.w3.org/1999/xlink\">\n",
       "<g id=\"graph0\" class=\"graph\" transform=\"scale(1 1) rotate(0) translate(4 328)\">\n",
       "<title>G</title>\n",
       "<polygon fill=\"#ffffff\" stroke=\"transparent\" points=\"-4,4 -4,-328 490,-328 490,4 -4,4\"/>\n",
       "<!-- N() -->\n",
       "<g id=\"node1\" class=\"node\">\n",
       "<title>N()</title>\n",
       "<ellipse fill=\"none\" stroke=\"#000000\" cx=\"279\" cy=\"-306\" rx=\"27\" ry=\"18\"/>\n",
       "<text text-anchor=\"middle\" x=\"279\" y=\"-302.3\" font-family=\"Times,serif\" font-size=\"14.00\" fill=\"#000000\">8</text>\n",
       "</g>\n",
       "<!-- N(0) -->\n",
       "<g id=\"node2\" class=\"node\">\n",
       "<title>N(0)</title>\n",
       "<ellipse fill=\"none\" stroke=\"#000000\" cx=\"207\" cy=\"-234\" rx=\"27\" ry=\"18\"/>\n",
       "<text text-anchor=\"middle\" x=\"207\" y=\"-230.3\" font-family=\"Times,serif\" font-size=\"14.00\" fill=\"#000000\">3</text>\n",
       "</g>\n",
       "<!-- N()&#45;&#45;N(0) -->\n",
       "<g id=\"edge11\" class=\"edge\">\n",
       "<title>N()&#45;&#45;N(0)</title>\n",
       "<path fill=\"none\" stroke=\"#000000\" d=\"M263.7307,-290.7307C251.512,-278.512 234.4602,-261.4602 222.2473,-249.2473\"/>\n",
       "</g>\n",
       "<!-- N(1) -->\n",
       "<g id=\"node13\" class=\"node\">\n",
       "<title>N(1)</title>\n",
       "<ellipse fill=\"none\" stroke=\"#000000\" cx=\"297\" cy=\"-234\" rx=\"27\" ry=\"18\"/>\n",
       "<text text-anchor=\"middle\" x=\"297\" y=\"-230.3\" font-family=\"Times,serif\" font-size=\"14.00\" fill=\"#000000\">10</text>\n",
       "</g>\n",
       "<!-- N()&#45;&#45;N(1) -->\n",
       "<g id=\"edge18\" class=\"edge\">\n",
       "<title>N()&#45;&#45;N(1)</title>\n",
       "<path fill=\"none\" stroke=\"#000000\" d=\"M283.4494,-288.2022C286.2187,-277.1252 289.768,-262.928 292.5394,-251.8425\"/>\n",
       "</g>\n",
       "<!-- N(00) -->\n",
       "<g id=\"node3\" class=\"node\">\n",
       "<title>N(00)</title>\n",
       "<ellipse fill=\"none\" stroke=\"#000000\" cx=\"99\" cy=\"-162\" rx=\"27\" ry=\"18\"/>\n",
       "<text text-anchor=\"middle\" x=\"99\" y=\"-158.3\" font-family=\"Times,serif\" font-size=\"14.00\" fill=\"#000000\">1</text>\n",
       "</g>\n",
       "<!-- N(0)&#45;&#45;N(00) -->\n",
       "<g id=\"edge3\" class=\"edge\">\n",
       "<title>N(0)&#45;&#45;N(00)</title>\n",
       "<path fill=\"none\" stroke=\"#000000\" d=\"M187.6918,-221.1278C168.0337,-208.0225 137.7386,-187.8257 118.1411,-174.7607\"/>\n",
       "</g>\n",
       "<!-- N(01) -->\n",
       "<g id=\"node6\" class=\"node\">\n",
       "<title>N(01)</title>\n",
       "<ellipse fill=\"none\" stroke=\"#000000\" cx=\"207\" cy=\"-162\" rx=\"27\" ry=\"18\"/>\n",
       "<text text-anchor=\"middle\" x=\"207\" y=\"-158.3\" font-family=\"Times,serif\" font-size=\"14.00\" fill=\"#000000\">6</text>\n",
       "</g>\n",
       "<!-- N(0)&#45;&#45;N(01) -->\n",
       "<g id=\"edge10\" class=\"edge\">\n",
       "<title>N(0)&#45;&#45;N(01)</title>\n",
       "<path fill=\"none\" stroke=\"#000000\" d=\"M207,-215.8314C207,-205 207,-191.2876 207,-180.4133\"/>\n",
       "</g>\n",
       "<!-- N(000) -->\n",
       "<g id=\"node4\" class=\"node\">\n",
       "<title>N(000)</title>\n",
       "<ellipse fill=\"none\" stroke=\"#ffffff\" cx=\"27\" cy=\"-90\" rx=\"27\" ry=\"18\"/>\n",
       "</g>\n",
       "<!-- N(00)&#45;&#45;N(000) -->\n",
       "<g id=\"edge1\" class=\"edge\">\n",
       "<title>N(00)&#45;&#45;N(000)</title>\n",
       "<path fill=\"none\" stroke=\"#ffffff\" d=\"M83.7307,-146.7307C71.512,-134.512 54.4602,-117.4602 42.2473,-105.2473\"/>\n",
       "</g>\n",
       "<!-- N(001) -->\n",
       "<g id=\"node5\" class=\"node\">\n",
       "<title>N(001)</title>\n",
       "<ellipse fill=\"none\" stroke=\"#ffffff\" cx=\"99\" cy=\"-90\" rx=\"27\" ry=\"18\"/>\n",
       "</g>\n",
       "<!-- N(00)&#45;&#45;N(001) -->\n",
       "<g id=\"edge2\" class=\"edge\">\n",
       "<title>N(00)&#45;&#45;N(001)</title>\n",
       "<path fill=\"none\" stroke=\"#ffffff\" d=\"M99,-143.8314C99,-133 99,-119.2876 99,-108.4133\"/>\n",
       "</g>\n",
       "<!-- N(010) -->\n",
       "<g id=\"node7\" class=\"node\">\n",
       "<title>N(010)</title>\n",
       "<ellipse fill=\"none\" stroke=\"#000000\" cx=\"171\" cy=\"-90\" rx=\"27\" ry=\"18\"/>\n",
       "<text text-anchor=\"middle\" x=\"171\" y=\"-86.3\" font-family=\"Times,serif\" font-size=\"14.00\" fill=\"#000000\">4</text>\n",
       "</g>\n",
       "<!-- N(01)&#45;&#45;N(010) -->\n",
       "<g id=\"edge6\" class=\"edge\">\n",
       "<title>N(01)&#45;&#45;N(010)</title>\n",
       "<path fill=\"none\" stroke=\"#000000\" d=\"M198.2854,-144.5708C192.6253,-133.2506 185.2784,-118.5568 179.6343,-107.2687\"/>\n",
       "</g>\n",
       "<!-- N(011) -->\n",
       "<g id=\"node10\" class=\"node\">\n",
       "<title>N(011)</title>\n",
       "<ellipse fill=\"none\" stroke=\"#000000\" cx=\"243\" cy=\"-90\" rx=\"27\" ry=\"18\"/>\n",
       "<text text-anchor=\"middle\" x=\"243\" y=\"-86.3\" font-family=\"Times,serif\" font-size=\"14.00\" fill=\"#000000\">7</text>\n",
       "</g>\n",
       "<!-- N(01)&#45;&#45;N(011) -->\n",
       "<g id=\"edge9\" class=\"edge\">\n",
       "<title>N(01)&#45;&#45;N(011)</title>\n",
       "<path fill=\"none\" stroke=\"#000000\" d=\"M215.7146,-144.5708C221.3747,-133.2506 228.7216,-118.5568 234.3657,-107.2687\"/>\n",
       "</g>\n",
       "<!-- N(0100) -->\n",
       "<g id=\"node8\" class=\"node\">\n",
       "<title>N(0100)</title>\n",
       "<ellipse fill=\"none\" stroke=\"#ffffff\" cx=\"99\" cy=\"-18\" rx=\"27\" ry=\"18\"/>\n",
       "</g>\n",
       "<!-- N(010)&#45;&#45;N(0100) -->\n",
       "<g id=\"edge4\" class=\"edge\">\n",
       "<title>N(010)&#45;&#45;N(0100)</title>\n",
       "<path fill=\"none\" stroke=\"#ffffff\" d=\"M155.7307,-74.7307C143.512,-62.512 126.4602,-45.4602 114.2473,-33.2473\"/>\n",
       "</g>\n",
       "<!-- N(0101) -->\n",
       "<g id=\"node9\" class=\"node\">\n",
       "<title>N(0101)</title>\n",
       "<ellipse fill=\"none\" stroke=\"#ffffff\" cx=\"171\" cy=\"-18\" rx=\"27\" ry=\"18\"/>\n",
       "</g>\n",
       "<!-- N(010)&#45;&#45;N(0101) -->\n",
       "<g id=\"edge5\" class=\"edge\">\n",
       "<title>N(010)&#45;&#45;N(0101)</title>\n",
       "<path fill=\"none\" stroke=\"#ffffff\" d=\"M171,-71.8314C171,-61 171,-47.2876 171,-36.4133\"/>\n",
       "</g>\n",
       "<!-- N(0110) -->\n",
       "<g id=\"node11\" class=\"node\">\n",
       "<title>N(0110)</title>\n",
       "<ellipse fill=\"none\" stroke=\"#ffffff\" cx=\"243\" cy=\"-18\" rx=\"27\" ry=\"18\"/>\n",
       "</g>\n",
       "<!-- N(011)&#45;&#45;N(0110) -->\n",
       "<g id=\"edge7\" class=\"edge\">\n",
       "<title>N(011)&#45;&#45;N(0110)</title>\n",
       "<path fill=\"none\" stroke=\"#ffffff\" d=\"M243,-71.8314C243,-61 243,-47.2876 243,-36.4133\"/>\n",
       "</g>\n",
       "<!-- N(0111) -->\n",
       "<g id=\"node12\" class=\"node\">\n",
       "<title>N(0111)</title>\n",
       "<ellipse fill=\"none\" stroke=\"#ffffff\" cx=\"315\" cy=\"-18\" rx=\"27\" ry=\"18\"/>\n",
       "</g>\n",
       "<!-- N(011)&#45;&#45;N(0111) -->\n",
       "<g id=\"edge8\" class=\"edge\">\n",
       "<title>N(011)&#45;&#45;N(0111)</title>\n",
       "<path fill=\"none\" stroke=\"#ffffff\" d=\"M258.2693,-74.7307C270.488,-62.512 287.5398,-45.4602 299.7527,-33.2473\"/>\n",
       "</g>\n",
       "<!-- N(10) -->\n",
       "<g id=\"node14\" class=\"node\">\n",
       "<title>N(10)</title>\n",
       "<ellipse fill=\"none\" stroke=\"#ffffff\" cx=\"297\" cy=\"-162\" rx=\"27\" ry=\"18\"/>\n",
       "</g>\n",
       "<!-- N(1)&#45;&#45;N(10) -->\n",
       "<g id=\"edge12\" class=\"edge\">\n",
       "<title>N(1)&#45;&#45;N(10)</title>\n",
       "<path fill=\"none\" stroke=\"#ffffff\" d=\"M297,-215.8314C297,-205 297,-191.2876 297,-180.4133\"/>\n",
       "</g>\n",
       "<!-- N(11) -->\n",
       "<g id=\"node15\" class=\"node\">\n",
       "<title>N(11)</title>\n",
       "<ellipse fill=\"none\" stroke=\"#000000\" cx=\"387\" cy=\"-162\" rx=\"27\" ry=\"18\"/>\n",
       "<text text-anchor=\"middle\" x=\"387\" y=\"-158.3\" font-family=\"Times,serif\" font-size=\"14.00\" fill=\"#000000\">14</text>\n",
       "</g>\n",
       "<!-- N(1)&#45;&#45;N(11) -->\n",
       "<g id=\"edge17\" class=\"edge\">\n",
       "<title>N(1)&#45;&#45;N(11)</title>\n",
       "<path fill=\"none\" stroke=\"#000000\" d=\"M314.3529,-220.1177C330.2899,-207.3681 353.7803,-188.5758 369.7004,-175.8397\"/>\n",
       "</g>\n",
       "<!-- N(110) -->\n",
       "<g id=\"node16\" class=\"node\">\n",
       "<title>N(110)</title>\n",
       "<ellipse fill=\"none\" stroke=\"#000000\" cx=\"387\" cy=\"-90\" rx=\"27\" ry=\"18\"/>\n",
       "<text text-anchor=\"middle\" x=\"387\" y=\"-86.3\" font-family=\"Times,serif\" font-size=\"14.00\" fill=\"#000000\">13</text>\n",
       "</g>\n",
       "<!-- N(11)&#45;&#45;N(110) -->\n",
       "<g id=\"edge15\" class=\"edge\">\n",
       "<title>N(11)&#45;&#45;N(110)</title>\n",
       "<path fill=\"none\" stroke=\"#000000\" d=\"M387,-143.8314C387,-133 387,-119.2876 387,-108.4133\"/>\n",
       "</g>\n",
       "<!-- N(111) -->\n",
       "<g id=\"node19\" class=\"node\">\n",
       "<title>N(111)</title>\n",
       "<ellipse fill=\"none\" stroke=\"#ffffff\" cx=\"459\" cy=\"-90\" rx=\"27\" ry=\"18\"/>\n",
       "</g>\n",
       "<!-- N(11)&#45;&#45;N(111) -->\n",
       "<g id=\"edge16\" class=\"edge\">\n",
       "<title>N(11)&#45;&#45;N(111)</title>\n",
       "<path fill=\"none\" stroke=\"#ffffff\" d=\"M402.2693,-146.7307C414.488,-134.512 431.5398,-117.4602 443.7527,-105.2473\"/>\n",
       "</g>\n",
       "<!-- N(1100) -->\n",
       "<g id=\"node17\" class=\"node\">\n",
       "<title>N(1100)</title>\n",
       "<ellipse fill=\"none\" stroke=\"#ffffff\" cx=\"387\" cy=\"-18\" rx=\"27\" ry=\"18\"/>\n",
       "</g>\n",
       "<!-- N(110)&#45;&#45;N(1100) -->\n",
       "<g id=\"edge13\" class=\"edge\">\n",
       "<title>N(110)&#45;&#45;N(1100)</title>\n",
       "<path fill=\"none\" stroke=\"#ffffff\" d=\"M387,-71.8314C387,-61 387,-47.2876 387,-36.4133\"/>\n",
       "</g>\n",
       "<!-- N(1101) -->\n",
       "<g id=\"node18\" class=\"node\">\n",
       "<title>N(1101)</title>\n",
       "<ellipse fill=\"none\" stroke=\"#ffffff\" cx=\"459\" cy=\"-18\" rx=\"27\" ry=\"18\"/>\n",
       "</g>\n",
       "<!-- N(110)&#45;&#45;N(1101) -->\n",
       "<g id=\"edge14\" class=\"edge\">\n",
       "<title>N(110)&#45;&#45;N(1101)</title>\n",
       "<path fill=\"none\" stroke=\"#ffffff\" d=\"M402.2693,-74.7307C414.488,-62.512 431.5398,-45.4602 443.7527,-33.2473\"/>\n",
       "</g>\n",
       "</g>\n",
       "</svg>\n"
      ],
      "text/plain": [
       "<graphviz.files.Source at 0x7fa0c82ff470>"
      ]
     },
     "metadata": {},
     "output_type": "display_data"
    }
   ],
   "source": [
    "show_tree(A)"
   ]
  },
  {
   "cell_type": "markdown",
   "metadata": {},
   "source": [
    "## Partie 1\n",
    "\n",
    "1. A l'aide des explications sur la recherche et l'ajout d'une valeur dans un ABR données dans le cours `algorithmes sur les arbres binaires`, écrire le code python de deux **fonctions** :\n",
    "* La fonction `recherche` qui :\n",
    "    * prend en paramètres un ABR et une valeur\n",
    "    * renvoie `True` si cette valeur est dans l'arbre et `False` sinon\n",
    "* La fonction `ajout` qui : \n",
    "    * prend en paramètres un ABR et une valeur\n",
    "    * renvoie un nouvel ABR dans lequel la valeur a été insérée."
   ]
  },
  {
   "cell_type": "code",
   "execution_count": 33,
   "metadata": {},
   "outputs": [],
   "source": [
    "# Ecrire votre code python ici\n",
    "def recherche(ABR,valeur):\n",
    "    a = ABR\n",
    "    while not a.est_vide():\n",
    "        if valeur == get_data():\n",
    "            return True\n",
    "        elif valeur < get_data():\n",
    "            a = a.get_SAG()\n",
    "        else:\n",
    "            a = a.get_SAD\n",
    "        return False\n",
    "            \n",
    "def ajout(ABR,valeur):\n",
    "    a = ABR\n",
    "    if a.est_vide():\n",
    "        a = ABR = (a,None,None)\n",
    "    while not a.est_vide():\n",
    "        if valeur == get_data():\n",
    "            valeur = a.get_data()\n",
    "        if valeur <= get_data():\n",
    "            valeur = a.set_SAG()\n",
    "        elif valeur > get_data():\n",
    "            valeur = a.set_SAD()"
   ]
  },
  {
   "cell_type": "markdown",
   "metadata": {},
   "source": [
    "2. Ecrire quelques appels permettant de vérifier le bon fontionnement de ces deux fonctions. Pour cela, écrire :\n",
    "\n",
    "* Au moins un appel qui permet de rechercher une valeur qui se trouve effectivement dans $A$\n",
    "* Au moins un appel qui permet de rechercher une valeur qui ne se trouve pas dans $A$\n",
    "* Au moins un appel qui permet d'ajouter une valeur dans un arbre vide\n",
    "* Au moins un appel qui permet d'ajouter une valeur dans $A$. Le nouvel arbre obtenu doit toujours être un ABR !!\n",
    "* Au moins un appel qui permet d'ajouter une valeur déjà présente dans $A$. Le nouvel arbre obtenu doit toujours être un ABR !!"
   ]
  },
  {
   "cell_type": "code",
   "execution_count": null,
   "metadata": {},
   "outputs": [],
   "source": [
    "# Ecrire votre code python ici\n",
    "\n",
    "# Au moins un appel qui permet de rechercher une valeur qui se trouve effectivement dans A\n",
    "recherche(a8,)\n",
    "# Au moins un appel qui permet de rechercher une valeur qui ne se trouve pas dans A\n",
    "\n",
    "\n",
    "# Au moins un appel qui permet d'ajouter une valeur dans un arbre vide\n",
    "\n",
    "\n",
    "# Au moins un appel qui permet d'ajouter une valeur dans A. Le nouvel arbre obtenu doit toujours être un ABR !!\n",
    "\n",
    "\n",
    "# Au moins un appel qui permet d'ajouter une valeur déjà présente dans A. \n",
    "#Le nouvel arbre obtenu doit toujours être un ABR \n"
   ]
  },
  {
   "cell_type": "markdown",
   "metadata": {},
   "source": [
    "3. Ecrire le code d'une fonction `ajout_si_non_present` (**sans utiliser la fonction `recherche`**)qui : \n",
    "    * prend en paramètres un ABR et une valeur\n",
    "    * renvoie un nouvel ABR dans lequel la valeur a été insérée uniquement si la valeur n'appartient pas à l'arbre.\n",
    "    * renvoie un ABR identique si la valeur appartient déjà à l'arbre"
   ]
  },
  {
   "cell_type": "code",
   "execution_count": null,
   "metadata": {},
   "outputs": [],
   "source": [
    "# Ecrire votre code python ici"
   ]
  },
  {
   "cell_type": "markdown",
   "metadata": {},
   "source": [
    "**Exécuter à nouveau la cellule qui génère l'arbre $A$ avant de passer à cette question**\n",
    "\n",
    "4. Ecrire quelques appels permettant de vérifier le bon fontionnement de `ajoute_si_non_present`. Pour cela écrire :\n",
    "* Au moins un appel qui permet d'ajouter une valeur dans un arbre vide\n",
    "* Au moins un appel qui permet d'ajouter une valeur dans $A$ non déjà présente. Le nouvel arbre obtenu doit toujours être un ABR !!\n",
    "* Au moins un appel qui permet d'ajouter une valeur déjà présente dans $A$. Le nouvel arbre obtenu doit toujours être un ABR !!"
   ]
  },
  {
   "cell_type": "code",
   "execution_count": null,
   "metadata": {},
   "outputs": [],
   "source": [
    "# Ecrire votre code python ici\n",
    "\n",
    "# Au moins un appel qui permet d'ajouter une valeur dans un arbre vide\n",
    "\n",
    "\n",
    "# Au moins un appel qui permet d'ajouter une valeur non déjà présente dans A. \n",
    "# Le nouvel arbre obtenu doit toujours être un ABR !!\n",
    "\n",
    "\n",
    "# Au moins un appel qui permet d'ajouter une valeur déjà présente dans A. \n",
    "#Le nouvel arbre obtenu doit toujours être un ABR !!"
   ]
  },
  {
   "cell_type": "markdown",
   "metadata": {},
   "source": [
    "## Partie 2\n",
    "\n",
    "1. Rappeler le résultat remarquable vu en dans `bloc5/TD_algorithmes_de_parcours_des_arbres_binaires` lorsqu'on fait un parcours infixe sur un arbre binaire **de recherche**. Ce résultat sera utile pour la suite..."
   ]
  },
  {
   "cell_type": "markdown",
   "metadata": {},
   "source": [
    "Le parcours infixe permet de parcourir les noeuds d'un ABR selon leurs valeurs croissantes"
   ]
  },
  {
   "cell_type": "markdown",
   "metadata": {},
   "source": [
    "2. Compléter le code des fonctions ci-dessous après avoir lu leur documentation. **Attention :**\n",
    "\n",
    "* Traiter les fonctions **dans l'ordre**\n",
    "* Bien réfléchir à une stratégie ou un pseudo-code **avant** d'écrire le code pyhton !!"
   ]
  },
  {
   "cell_type": "code",
   "execution_count": null,
   "metadata": {},
   "outputs": [],
   "source": [
    "def construit_ABR(liste_valeurs):\n",
    "    '''\n",
    "    Rôle de la fonction : construit un ABR à partir de valeurs fournies dans une liste\n",
    "    liste_valeurs (type list) : liste contenant les valeurs qui devront composer l'ABR\n",
    "    return (type ABR) : ABR construit avec cette liste de valeurs\n",
    "    Conseil : Utiliser la fonction `ajoute`\n",
    "    '''\n",
    "    # A compléter\n",
    "\n",
    "    \n",
    "def minimum(abr):\n",
    "    '''\n",
    "    Rôle de la fonction : renvoie la valeur minimale d'un ABR\n",
    "    abr (type ABR) : un ABR\n",
    "    return (même type que les noeuds de l'arbre) : valeur minimale de l'arbre\n",
    "    Précondition : # A compléter et à tenir compte dans le code\n",
    "    Consignes : interdiction d'utiliser la fonction `parcours_infixe`\n",
    "    '''\n",
    "    # A compléter\n",
    "\n",
    "\n",
    "def maximum(abr):\n",
    "    '''\n",
    "    Rôle de la fonction : renvoie la valeur maximale d'un ABR\n",
    "    abr (type ABR) : un ABR\n",
    "    return (même type que les noeuds de l'arbre) : valeur maximale de l'arbre\n",
    "    Précondition : # A compléter et à tenir compte dans le code\n",
    "    Consignes : obligation tion d'utiliser la fonction `parcours_infixe`\n",
    "    '''\n",
    "    # A compléter\n",
    "\n",
    "    \n",
    "def est_ABR(arbre):\n",
    "    '''\n",
    "    Rôle de la fonction : détermine si un arbre binaire est un arbre binaire de recherche\n",
    "    arbre (type ABR) : un arbre binaire\n",
    "    return (type bool) : True si l'arbre binaire est un ABR, False sinon\n",
    "    Conseil : Utiliser la fonction parcours_infixe\n",
    "    '''\n",
    "    # A compléter\n",
    "\n",
    "    \n",
    "def tri(liste):\n",
    "    '''\n",
    "    Rôle de la fonction : trie une liste de valeur\n",
    "    liste (list) : liste à trier contenant des entiers, des réels ou des chaînes de caractères\n",
    "    return (list) : liste triée\n",
    "    Conseil : Utiliser la structure d'ABR et la fonction parcours_infixe\n",
    "    '''\n",
    "    # A compléter"
   ]
  },
  {
   "cell_type": "markdown",
   "metadata": {},
   "source": [
    "3. Ecrire les appels qui permettent d'afficher la valeur maximale et minimale contenu dans $A$"
   ]
  },
  {
   "cell_type": "code",
   "execution_count": null,
   "metadata": {},
   "outputs": [],
   "source": [
    "# Ecrire votre code python ici"
   ]
  },
  {
   "cell_type": "markdown",
   "metadata": {},
   "source": [
    "4. Ecrire les appels qui permettent d'afficher la valeur maximale et minimale contenu dans un arbre vide. Quel résultat obtenez-vous ? Pourquoi ? Est-ce le comportement attendu ?"
   ]
  },
  {
   "cell_type": "code",
   "execution_count": null,
   "metadata": {},
   "outputs": [],
   "source": [
    "# Ecrire votre code python ici\n",
    "\n",
    "# Ecrire les réponses à la question ici"
   ]
  },
  {
   "cell_type": "code",
   "execution_count": null,
   "metadata": {},
   "outputs": [],
   "source": [
    "# Ecrire votre code python ici\n",
    "\n",
    "# Ecrire les réponses à la question ici"
   ]
  },
  {
   "cell_type": "markdown",
   "metadata": {},
   "source": [
    "5. Ecrire les lignes de code permettant de construire l'arbre $A1$ ci-dessous. Donner une raison pour laquelle cet arbre n'est pas un ABR.\n",
    "\n",
    "![click droit pour afficher l'image](img/arbre_non_abr.png)"
   ]
  },
  {
   "cell_type": "code",
   "execution_count": null,
   "metadata": {},
   "outputs": [],
   "source": [
    "# Ecrire votre code python ici\n",
    "\n",
    "# Ecrire les réponses à la question ici"
   ]
  },
  {
   "cell_type": "markdown",
   "metadata": {},
   "source": [
    "6. A l'aide des arbres $A$ et $A1$, écrire les lignes de code permettant de tester la fonction `est_ABR`"
   ]
  },
  {
   "cell_type": "code",
   "execution_count": null,
   "metadata": {},
   "outputs": [],
   "source": [
    "# Ecrire votre code python ici"
   ]
  },
  {
   "cell_type": "markdown",
   "metadata": {},
   "source": [
    "7. A l'aide de la fonction `construit_ABR`, créer les arbres $A2$ et $A3$, à partir de leurs listes respectives de valeurs `[6, 8, 4, 5, 2, 9]` et `[4, 9, 6, 2, 5, 8]`. Puis demander à python de vérifier que ces arbres sont bien des ABR."
   ]
  },
  {
   "cell_type": "code",
   "execution_count": null,
   "metadata": {},
   "outputs": [],
   "source": [
    "# Ecrire votre code python ici"
   ]
  },
  {
   "cell_type": "markdown",
   "metadata": {},
   "source": [
    "8. Vrai ou faux : un ABR possédant un ensemble de noeuds donnés est nécessairement unique. **Justifier votre réponse** à l'aide de la question précédente."
   ]
  },
  {
   "cell_type": "markdown",
   "metadata": {},
   "source": []
  }
 ],
 "metadata": {
  "kernelspec": {
   "display_name": "Python 3",
   "language": "python",
   "name": "python3"
  },
  "language_info": {
   "codemirror_mode": {
    "name": "ipython",
    "version": 3
   },
   "file_extension": ".py",
   "mimetype": "text/x-python",
   "name": "python",
   "nbconvert_exporter": "python",
   "pygments_lexer": "ipython3",
   "version": "3.6.9"
  }
 },
 "nbformat": 4,
 "nbformat_minor": 5
}
